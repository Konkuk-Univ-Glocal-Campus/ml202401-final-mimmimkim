{
 "cells": [
  {
   "cell_type": "markdown",
   "metadata": {},
   "source": [
    "데이터 전처리"
   ]
  },
  {
   "cell_type": "code",
   "execution_count": 1,
   "metadata": {},
   "outputs": [
    {
     "name": "stdout",
     "output_type": "stream",
     "text": [
      "Requirement already satisfied: nltk in /usr/local/python/3.10.13/lib/python3.10/site-packages (3.8.1)\n",
      "Requirement already satisfied: click in /usr/local/python/3.10.13/lib/python3.10/site-packages (from nltk) (8.1.7)\n",
      "Requirement already satisfied: joblib in /home/codespace/.local/lib/python3.10/site-packages (from nltk) (1.4.2)\n",
      "Requirement already satisfied: regex>=2021.8.3 in /usr/local/python/3.10.13/lib/python3.10/site-packages (from nltk) (2024.5.15)\n",
      "Requirement already satisfied: tqdm in /usr/local/python/3.10.13/lib/python3.10/site-packages (from nltk) (4.66.4)\n",
      "Note: you may need to restart the kernel to use updated packages.\n"
     ]
    }
   ],
   "source": [
    "%pip install nltk\n",
    "import nltk as nltk\n",
    "import re\n",
    "import pandas as pd\n",
    "from nltk.corpus import stopwords\n",
    "from nltk.tokenize import word_tokenize\n",
    "from nltk.stem import PorterStemmer\n"
   ]
  },
  {
   "cell_type": "code",
   "execution_count": 2,
   "metadata": {},
   "outputs": [
    {
     "name": "stdout",
     "output_type": "stream",
     "text": [
      "Loading data file now, this could take a while depending on file size\n"
     ]
    }
   ],
   "source": [
    "#파일 불러오기\n",
    "print(\"Loading data file now, this could take a while depending on file size\")\n",
    "df = pd.read_csv('./amazon_uk_shoes_products_dataset_2021_12.csv')"
   ]
  },
  {
   "cell_type": "code",
   "execution_count": 3,
   "metadata": {},
   "outputs": [
    {
     "name": "stdout",
     "output_type": "stream",
     "text": [
      "The shape of the data (rows, cols) is (6823, 11)\n"
     ]
    }
   ],
   "source": [
    "#행열 갯수 알아보기\n",
    "print(\"The shape of the data (rows, cols) is \" + str(df.shape))"
   ]
  },
  {
   "cell_type": "code",
   "execution_count": 4,
   "metadata": {},
   "outputs": [
    {
     "data": {
      "text/html": [
       "<div>\n",
       "<style scoped>\n",
       "    .dataframe tbody tr th:only-of-type {\n",
       "        vertical-align: middle;\n",
       "    }\n",
       "\n",
       "    .dataframe tbody tr th {\n",
       "        vertical-align: top;\n",
       "    }\n",
       "\n",
       "    .dataframe thead th {\n",
       "        text-align: right;\n",
       "    }\n",
       "</style>\n",
       "<table border=\"1\" class=\"dataframe\">\n",
       "  <thead>\n",
       "    <tr style=\"text-align: right;\">\n",
       "      <th></th>\n",
       "      <th>review_text</th>\n",
       "      <th>review_rating</th>\n",
       "    </tr>\n",
       "  </thead>\n",
       "  <tbody>\n",
       "    <tr>\n",
       "      <th>0</th>\n",
       "      <td>Love these. Was looking for converses and thes...</td>\n",
       "      <td>5.0</td>\n",
       "    </tr>\n",
       "    <tr>\n",
       "      <th>1</th>\n",
       "      <td>The shoes are very cute, but after the 2nd day...</td>\n",
       "      <td>2.0</td>\n",
       "    </tr>\n",
       "    <tr>\n",
       "      <th>2</th>\n",
       "      <td>Good quality</td>\n",
       "      <td>5.0</td>\n",
       "    </tr>\n",
       "    <tr>\n",
       "      <th>3</th>\n",
       "      <td>Great</td>\n",
       "      <td>5.0</td>\n",
       "    </tr>\n",
       "    <tr>\n",
       "      <th>4</th>\n",
       "      <td>Ho scelto il modello bianco con rifinitura die...</td>\n",
       "      <td>5.0</td>\n",
       "    </tr>\n",
       "  </tbody>\n",
       "</table>\n",
       "</div>"
      ],
      "text/plain": [
       "                                         review_text  review_rating\n",
       "0  Love these. Was looking for converses and thes...            5.0\n",
       "1  The shoes are very cute, but after the 2nd day...            2.0\n",
       "2                                       Good quality            5.0\n",
       "3                                              Great            5.0\n",
       "4  Ho scelto il modello bianco con rifinitura die...            5.0"
      ]
     },
     "execution_count": 4,
     "metadata": {},
     "output_type": "execute_result"
    }
   ],
   "source": [
    "#감성 분석 시 필요한 review_text, review_rating만 사용\n",
    "df = df[['review_text','review_rating']]\n",
    "\n",
    "df.head()"
   ]
  },
  {
   "cell_type": "code",
   "execution_count": 5,
   "metadata": {},
   "outputs": [
    {
     "name": "stdout",
     "output_type": "stream",
     "text": [
      "                                         review_text  review_rating\n",
      "0  love these was looking for converses and these...            5.0\n",
      "1  the shoes are very cute but after the 2nd day ...            2.0\n",
      "2                                       good quality            5.0\n",
      "3                                              great            5.0\n",
      "4  ho scelto il modello bianco con rifinitura die...            5.0\n"
     ]
    }
   ],
   "source": [
    "def clean_text(text):\n",
    "    if isinstance(text, str):  # 문자열인 경우에만 처리\n",
    "        text = re.sub(r'[^\\w\\s]', '', text)  # 알파벳과 공백을 제외한 모든 문자 제거\n",
    "        text = text.lower()  # 소문자 변환\n",
    "        text = text.strip()  # 양쪽 공백 제거\n",
    "        return text\n",
    "    else:\n",
    "        return \"\"  # 문자열이 아닌 경우 빈 문자열 반환 또는 다른 처리 방법을 선택할 수 있음\n",
    "\n",
    "# 클린업 함수 적용\n",
    "df['review_text'] = df['review_text'].apply(clean_text)\n",
    "\n",
    "print(df.head())"
   ]
  },
  {
   "cell_type": "code",
   "execution_count": 6,
   "metadata": {},
   "outputs": [
    {
     "name": "stderr",
     "output_type": "stream",
     "text": [
      "[nltk_data] Downloading package punkt to /home/codespace/nltk_data...\n",
      "[nltk_data]   Package punkt is already up-to-date!\n",
      "[nltk_data] Downloading package stopwords to\n",
      "[nltk_data]     /home/codespace/nltk_data...\n",
      "[nltk_data]   Package stopwords is already up-to-date!\n"
     ]
    },
    {
     "name": "stdout",
     "output_type": "stream",
     "text": [
      "                                         review_text  review_rating\n",
      "0  love looking converses half price unique ive n...            5.0\n",
      "1  shoes cute 2nd day wearing tongue started ripp...            2.0\n",
      "2                                       good quality            5.0\n",
      "3                                              great            5.0\n",
      "4  ho scelto il modello bianco con rifinitura die...            5.0\n"
     ]
    }
   ],
   "source": [
    "#nltk 라이브러리를 사용하여 텍스트 토큰화 및 불용어 제거\n",
    "#nltk에서 불용어 다운로드\n",
    "nltk.download('punkt')\n",
    "nltk.download('stopwords')\n",
    "\n",
    "#불용어 리스트 가져오기\n",
    "stop_words = set(stopwords.words(\"english\"))\n",
    "\n",
    "#토큰화 및 불용어 제거 함수\n",
    "def tokenize_remove_stopwords(text):\n",
    "    if isinstance(text, str):  # 문자열인 경우에만 처리\n",
    "        tokens = word_tokenize(text)\n",
    "        filtered_tokens = [word for word in tokens if word.lower() not in stop_words]\n",
    "        return ' '.join(filtered_tokens)\n",
    "    else:\n",
    "        return ''\n",
    "    \n",
    "#모든 리뷰 텍스트에 대해 토큰화 및 불용어 제거 적용\n",
    "df['review_text'] = df['review_text'].apply(tokenize_remove_stopwords)\n",
    "\n",
    "print(df.head())\n"
   ]
  },
  {
   "cell_type": "code",
   "execution_count": 7,
   "metadata": {},
   "outputs": [
    {
     "name": "stdout",
     "output_type": "stream",
     "text": [
      "                                         review_text  review_rating\n",
      "0  love look convers half price uniqu ive never s...            5.0\n",
      "1  shoe cute 2nd day wear tongu start rip 3rd day...            2.0\n",
      "2                                       good qualiti            5.0\n",
      "3                                              great            5.0\n",
      "4  ho scelto il modello bianco con rifinitura die...            5.0\n"
     ]
    }
   ],
   "source": [
    "# 스테머 생성\n",
    "stemmer = PorterStemmer()\n",
    "\n",
    "# 스테밍 함수\n",
    "def stem_text(text):\n",
    "    if isinstance(text, str):  # 문자열인 경우에만 처리\n",
    "        tokens = word_tokenize(text)\n",
    "        stemmed_tokens = [stemmer.stem(word) for word in tokens]\n",
    "        return ' '.join(stemmed_tokens)\n",
    "    else:\n",
    "        return ''\n",
    "    \n",
    "# 모든 리뷰 텍스트에 대해 스테밍 적용\n",
    "df['review_text'] = df['review_text'].apply(stem_text)\n",
    "\n",
    "\n",
    "print(df.head())\n"
   ]
  },
  {
   "cell_type": "markdown",
   "metadata": {},
   "source": [
    "모델 구현"
   ]
  },
  {
   "cell_type": "code",
   "execution_count": 11,
   "metadata": {},
   "outputs": [],
   "source": [
    "from sklearn.linear_model import LogisticRegression\n",
    "from sklearn.feature_extraction.text import TfidfVectorizer"
   ]
  },
  {
   "cell_type": "code",
   "execution_count": 67,
   "metadata": {},
   "outputs": [],
   "source": [
    "# TF-IDF 벡터화\n",
    "vectorizer = TfidfVectorizer(max_features=1000)\n",
    "X = vectorizer.fit_transform(df['review_text'])\n",
    "\n",
    "# 감성 레이블 설정 (예: 4점 이상은 긍정, 3점 이하는 부정)\n",
    "df['sentiment'] = df['review_rating'].apply(lambda x: 1 if x >= 4 else 0)\n",
    "y = df['sentiment']\n",
    "\n",
    "# 로지스틱 회귀 모델\n",
    "model = LogisticRegression()"
   ]
  },
  {
   "cell_type": "markdown",
   "metadata": {},
   "source": [
    "모델 학습 및 튜닝"
   ]
  },
  {
   "cell_type": "code",
   "execution_count": 68,
   "metadata": {},
   "outputs": [],
   "source": [
    "from sklearn.model_selection import train_test_split, GridSearchCV\n",
    "from sklearn.svm import SVC\n",
    "from sklearn.model_selection import cross_validate\n",
    "from sklearn.metrics import f1_score, classification_report\n",
    "import numpy as np"
   ]
  },
  {
   "cell_type": "code",
   "execution_count": 75,
   "metadata": {},
   "outputs": [
    {
     "name": "stdout",
     "output_type": "stream",
     "text": [
      "Presidiction labels:  [0 1 1 ... 1 1 1]\n"
     ]
    }
   ],
   "source": [
    "# 데이터 분할\n",
    "X_train, X_test, y_train, y_test = train_test_split(X, y, test_size=0.2, random_state=42)\n",
    "\n",
    "#모델 학습\n",
    "model.fit(X_train, y_train)\n",
    "\n",
    "#예측\n",
    "predictions= model.predict(X_test) \n",
    "\n",
    "print('Presidiction labels: ', predictions)\n"
   ]
  },
  {
   "cell_type": "code",
   "execution_count": 76,
   "metadata": {},
   "outputs": [
    {
     "name": "stdout",
     "output_type": "stream",
     "text": [
      "Best Hyperparameters: {'C': 10}\n",
      "Best Score: 0.8349\n"
     ]
    }
   ],
   "source": [
    "# 하이퍼파라미터 튜닝- 그리드 서치\n",
    "param_grid = {'C': [0.001, 0.01, 0.1, 1, 10, 100]}\n",
    "\n",
    "#그리드서치CV 객체 생성\n",
    "grid_search = GridSearchCV(model, param_grid, cv=5, scoring='accuracy')\n",
    "\n",
    "#그리드 서치 실행\n",
    "grid_search.fit(X_train, y_train)\n",
    "\n",
    "# 최적의 하이퍼파라미터 출력\n",
    "print(\"Best Hyperparameters:\", grid_search.best_params_)\n",
    "print(\"Best Score: {:.4f}\".format(grid_search.best_score_))\n"
   ]
  },
  {
   "cell_type": "code",
   "execution_count": 57,
   "metadata": {},
   "outputs": [
    {
     "name": "stderr",
     "output_type": "stream",
     "text": [
      "/home/codespace/.local/lib/python3.10/site-packages/sklearn/linear_model/_logistic.py:469: ConvergenceWarning: lbfgs failed to converge (status=1):\n",
      "STOP: TOTAL NO. of ITERATIONS REACHED LIMIT.\n",
      "\n",
      "Increase the number of iterations (max_iter) or scale the data as shown in:\n",
      "    https://scikit-learn.org/stable/modules/preprocessing.html\n",
      "Please also refer to the documentation for alternative solver options:\n",
      "    https://scikit-learn.org/stable/modules/linear_model.html#logistic-regression\n",
      "  n_iter_i = _check_optimize_result(\n"
     ]
    },
    {
     "name": "stdout",
     "output_type": "stream",
     "text": [
      "{'fit_time': array([0.54816961, 0.58683228, 0.62246585, 0.58998036, 0.54085636]), 'score_time': array([0.0008893 , 0.00581002, 0.00090361, 0.00145364, 0.00089145]), 'test_score': array([0.82417582, 0.83241758, 0.82051282, 0.85334555, 0.84417965])}\n"
     ]
    }
   ],
   "source": [
    "# 교차 검증 함수 사용\n",
    "scores = cross_validate(grid_search, X_train, y_train)\n",
    "print(scores)"
   ]
  },
  {
   "cell_type": "code",
   "execution_count": 58,
   "metadata": {},
   "outputs": [
    {
     "name": "stdout",
     "output_type": "stream",
     "text": [
      "0.8349262866678082\n"
     ]
    }
   ],
   "source": [
    "# 교차 검증의 점수\n",
    "print(np.mean(scores['test_score'])) "
   ]
  },
  {
   "cell_type": "markdown",
   "metadata": {},
   "source": [
    "모델 평가"
   ]
  },
  {
   "cell_type": "code",
   "execution_count": 42,
   "metadata": {},
   "outputs": [],
   "source": [
    "from sklearn.metrics import accuracy_score, precision_score, recall_score, f1_score, roc_auc_score"
   ]
  },
  {
   "cell_type": "code",
   "execution_count": 77,
   "metadata": {},
   "outputs": [
    {
     "name": "stdout",
     "output_type": "stream",
     "text": [
      "정확도: 0.8542\n",
      "정밀도: 0.8714\n",
      "재현율: 0.9467\n",
      "F1 점수: 0.9075\n",
      "ROC-AUC: 0.8960\n"
     ]
    }
   ],
   "source": [
    "# 최적의 모델로 예측\n",
    "best_model = grid_search.best_estimator_\n",
    "y_pred = best_model.predict(X_test)\n",
    "\n",
    "# 정확도 계산\n",
    "accuracy = accuracy_score(y_test, y_pred)\n",
    "\n",
    "# 정밀도 계산\n",
    "precision = precision_score(y_test, y_pred)\n",
    "\n",
    "# 재현율 계산\n",
    "recall = recall_score(y_test, y_pred)\n",
    "\n",
    "# F1 점수 계산\n",
    "f1 = f1_score(y_test, y_pred)\n",
    "\n",
    "# ROC-AUC 계산 (positive 클래스에 대한 것만 계산)\n",
    "roc_auc = roc_auc_score(y_test, grid_search.best_estimator_.predict_proba(X_test)[:, 1])\n",
    "\n",
    "# 결과 출력\n",
    "print(f\"정확도: {accuracy:.4f}\")\n",
    "print(f\"정밀도: {precision:.4f}\")\n",
    "print(f\"재현율: {recall:.4f}\")\n",
    "print(f\"F1 점수: {f1:.4f}\")\n",
    "print(f\"ROC-AUC: {roc_auc:.4f}\")\n"
   ]
  },
  {
   "cell_type": "markdown",
   "metadata": {},
   "source": [
    "언더피팅과 오버피팅\n",
    "-\t오버피팅은 Train 데이터에 모델이 너무 적합하게 학습되어 있기 때문에 Train 데이터가 아닌 다른 데이터가 들어오게 되면 정확도가 떨어지는 현상입니다.\n",
    "오버피팅이 발생하면 모델은 훈련 데이터에서는 높은 성능을 보이지만, 새로운 데이터나 검증 데이터에서는 성능이 저하될 수 있습니다.\n",
    "\n",
    "-\t언더피팅은 모델이 너무 단순하거나, 학습 데이터의 다양성을 충분히 반영하지 못하는 경우 발생할 수 있습니다. 또한, 모델이 훈련 데이터의 패턴을 충분히 학습하지 못해, 훈련 데이터와 테스트 데이터 모두에서 성능이 낮은 상태를 말합니다\n",
    "\n",
    "- 오버피팅 해결 방법\n",
    "- \t데이터 양 늘리기\n",
    "모델은 데이터의 양이 적을수록 해당 데이터의 특징 패턴이나 노이즈까지 암기해버려서 오버피팅 될 확률이 높습니다. 그래서 데이터의 양을 늘릴수록 모델은 일반적인 패턴을 학습하여 방지할 수 있습니다. \n",
    "-\t모델의 복잡도 줄이기\n",
    "모델의 능력을 줄인다고 표현할 수 있으며 이것은 데이터 양을 늘려주는 것과 반대로 학습하는 데이터의 수준에 맞게 모델의 능력을 조정해주는 방법입니다.\n",
    "\n",
    "-\t언더피팅 해결 방법\n",
    "-\t모델 복잡성 증가\n",
    "모델의 복잡성을 높이거나, 다양한 특성을 추가하여 학습 데이터의 다양성을 반영하도록 합니다.\n",
    "-\t더 복잡한 모델 사용\n",
    "모델의 복잡성을 늘려서 학습 데이터에 더 잘 맞출 수 있도록 합니다.\n",
    "\n",
    "위 모델에서 훈련데이터의 성능은 0.8349, 검증 데이터의 성능은 0.8349262866로 성능이 낮지 않으며 밸런스가 맞음으로 오버피팅과 언더피팅에 해당하지 않습니다.\n"
   ]
  },
  {
   "cell_type": "markdown",
   "metadata": {},
   "source": [
    "시각화 및 보고"
   ]
  },
  {
   "cell_type": "code",
   "execution_count": 78,
   "metadata": {},
   "outputs": [],
   "source": [
    "import matplotlib.pyplot as plt\n",
    "from sklearn.metrics import confusion_matrix, roc_curve\n",
    "import seaborn as sns"
   ]
  },
  {
   "cell_type": "code",
   "execution_count": 81,
   "metadata": {},
   "outputs": [
    {
     "data": {
      "image/png": "[encoded data removed]",
      "text/plain": [
       "<Figure size 640x480 with 2 Axes>"
      ]
     },
     "metadata": {},
     "output_type": "display_data"
    }
   ],
   "source": [
    "# 혼동 행렬 시각화\n",
    "confusion_matrix = confusion_matrix(y_test, predictions)\n",
    "sns.heatmap(confusion_matrix, annot=True, fmt='d', cmap='Blues')\n",
    "plt.xlabel('Predicted')\n",
    "plt.ylabel('Actual')\n",
    "plt.title('Confusion Matrix')\n",
    "plt.show()\n"
   ]
  },
  {
   "cell_type": "code",
   "execution_count": 83,
   "metadata": {},
   "outputs": [
    {
     "data": {
      "image/png": "[encoded data removed]",
      "text/plain": [
       "<Figure size 400x400 with 1 Axes>"
      ]
     },
     "metadata": {},
     "output_type": "display_data"
    }
   ],
   "source": [
    "# ROC 곡선 시각화\n",
    "y_score = best_model.predict_proba(X_test)\n",
    "fpr, tpr, thresholds = roc_curve(y_test, y_score[:, 1])\n",
    "\n",
    "fig= plt.figure(figsize=(4, 4))\n",
    "plt.plot([0,1], [0,1], 'k--')\n",
    "plt.plot(fpr, tpr)\n",
    "plt.xlabel('False Positive Rate')\n",
    "plt.ylabel('True Positive Rate')\n",
    "plt.title('ROC Curve')\n",
    "plt.show()"
   ]
  }
 ],
 "metadata": {
  "kernelspec": {
   "display_name": "Python 3",
   "language": "python",
   "name": "python3"
  },
  "language_info": {
   "codemirror_mode": {
    "name": "ipython",
    "version": 3
   },
   "file_extension": ".py",
   "mimetype": "text/x-python",
   "name": "python",
   "nbconvert_exporter": "python",
   "pygments_lexer": "ipython3",
   "version": "3.10.13"
  }
 },
 "nbformat": 4,
 "nbformat_minor": 2
}
